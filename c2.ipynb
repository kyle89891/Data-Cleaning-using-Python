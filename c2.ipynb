{
 "cells": [
  {
   "cell_type": "code",
   "execution_count": 44,
   "metadata": {},
   "outputs": [],
   "source": [
    "import pandas as pd\n",
    "import matplotlib.pyplot as plt"
   ]
  },
  {
   "cell_type": "code",
   "execution_count": 45,
   "metadata": {},
   "outputs": [
    {
     "data": {
      "text/html": [
       "<div>\n",
       "<style scoped>\n",
       "    .dataframe tbody tr th:only-of-type {\n",
       "        vertical-align: middle;\n",
       "    }\n",
       "\n",
       "    .dataframe tbody tr th {\n",
       "        vertical-align: top;\n",
       "    }\n",
       "\n",
       "    .dataframe thead th {\n",
       "        text-align: right;\n",
       "    }\n",
       "</style>\n",
       "<table border=\"1\" class=\"dataframe\">\n",
       "  <thead>\n",
       "    <tr style=\"text-align: right;\">\n",
       "      <th></th>\n",
       "      <th>Observation</th>\n",
       "      <th>Y-Kappa</th>\n",
       "      <th>ChipRate</th>\n",
       "      <th>BF-CMratio</th>\n",
       "      <th>BlowFlow</th>\n",
       "      <th>ChipLevel4</th>\n",
       "      <th>T-upperExt-2</th>\n",
       "      <th>T-lowerExt-2</th>\n",
       "      <th>UCZAA</th>\n",
       "      <th>WhiteFlow-4</th>\n",
       "      <th>...</th>\n",
       "      <th>SteamFlow-4</th>\n",
       "      <th>Lower-HeatT-3</th>\n",
       "      <th>Upper-HeatT-3</th>\n",
       "      <th>ChipMass-4</th>\n",
       "      <th>WeakLiquorF</th>\n",
       "      <th>BlackFlow-2</th>\n",
       "      <th>WeakWashF</th>\n",
       "      <th>SteamHeatF-3</th>\n",
       "      <th>T-Top-Chips-4</th>\n",
       "      <th>SulphidityL-4</th>\n",
       "    </tr>\n",
       "  </thead>\n",
       "  <tbody>\n",
       "    <tr>\n",
       "      <th>0</th>\n",
       "      <td>31-00:00</td>\n",
       "      <td>23.10</td>\n",
       "      <td>16.520</td>\n",
       "      <td>121.717</td>\n",
       "      <td>1177.607</td>\n",
       "      <td>169.805</td>\n",
       "      <td>358.282</td>\n",
       "      <td>329.545</td>\n",
       "      <td>1.443</td>\n",
       "      <td>599.253</td>\n",
       "      <td>...</td>\n",
       "      <td>67.122</td>\n",
       "      <td>329.432</td>\n",
       "      <td>303.099</td>\n",
       "      <td>175.964</td>\n",
       "      <td>1127.197</td>\n",
       "      <td>1319.039</td>\n",
       "      <td>257.325</td>\n",
       "      <td>54.612</td>\n",
       "      <td>252.077</td>\n",
       "      <td>NaN</td>\n",
       "    </tr>\n",
       "    <tr>\n",
       "      <th>1</th>\n",
       "      <td>31-01:00</td>\n",
       "      <td>27.60</td>\n",
       "      <td>16.810</td>\n",
       "      <td>79.022</td>\n",
       "      <td>1328.360</td>\n",
       "      <td>341.327</td>\n",
       "      <td>351.050</td>\n",
       "      <td>329.067</td>\n",
       "      <td>1.549</td>\n",
       "      <td>537.201</td>\n",
       "      <td>...</td>\n",
       "      <td>60.012</td>\n",
       "      <td>330.823</td>\n",
       "      <td>304.879</td>\n",
       "      <td>163.202</td>\n",
       "      <td>665.975</td>\n",
       "      <td>1297.317</td>\n",
       "      <td>241.182</td>\n",
       "      <td>46.603</td>\n",
       "      <td>251.406</td>\n",
       "      <td>29.11</td>\n",
       "    </tr>\n",
       "    <tr>\n",
       "      <th>2</th>\n",
       "      <td>31-02:00</td>\n",
       "      <td>23.19</td>\n",
       "      <td>16.709</td>\n",
       "      <td>79.562</td>\n",
       "      <td>1329.407</td>\n",
       "      <td>239.161</td>\n",
       "      <td>350.022</td>\n",
       "      <td>329.260</td>\n",
       "      <td>1.600</td>\n",
       "      <td>549.611</td>\n",
       "      <td>...</td>\n",
       "      <td>61.304</td>\n",
       "      <td>329.140</td>\n",
       "      <td>303.383</td>\n",
       "      <td>164.013</td>\n",
       "      <td>677.534</td>\n",
       "      <td>1327.072</td>\n",
       "      <td>237.272</td>\n",
       "      <td>51.795</td>\n",
       "      <td>251.335</td>\n",
       "      <td>NaN</td>\n",
       "    </tr>\n",
       "    <tr>\n",
       "      <th>3</th>\n",
       "      <td>31-03:00</td>\n",
       "      <td>23.60</td>\n",
       "      <td>16.478</td>\n",
       "      <td>81.011</td>\n",
       "      <td>1334.877</td>\n",
       "      <td>213.527</td>\n",
       "      <td>350.938</td>\n",
       "      <td>331.142</td>\n",
       "      <td>1.604</td>\n",
       "      <td>623.362</td>\n",
       "      <td>...</td>\n",
       "      <td>68.496</td>\n",
       "      <td>328.875</td>\n",
       "      <td>302.254</td>\n",
       "      <td>181.487</td>\n",
       "      <td>767.853</td>\n",
       "      <td>1324.461</td>\n",
       "      <td>239.478</td>\n",
       "      <td>54.846</td>\n",
       "      <td>250.312</td>\n",
       "      <td>29.02</td>\n",
       "    </tr>\n",
       "    <tr>\n",
       "      <th>4</th>\n",
       "      <td>31-04:00</td>\n",
       "      <td>22.90</td>\n",
       "      <td>15.618</td>\n",
       "      <td>93.244</td>\n",
       "      <td>1334.168</td>\n",
       "      <td>243.131</td>\n",
       "      <td>351.640</td>\n",
       "      <td>332.709</td>\n",
       "      <td>NaN</td>\n",
       "      <td>638.672</td>\n",
       "      <td>...</td>\n",
       "      <td>70.022</td>\n",
       "      <td>328.352</td>\n",
       "      <td>300.954</td>\n",
       "      <td>183.929</td>\n",
       "      <td>888.448</td>\n",
       "      <td>1343.424</td>\n",
       "      <td>215.372</td>\n",
       "      <td>54.186</td>\n",
       "      <td>249.916</td>\n",
       "      <td>29.01</td>\n",
       "    </tr>\n",
       "  </tbody>\n",
       "</table>\n",
       "<p>5 rows × 23 columns</p>\n",
       "</div>"
      ],
      "text/plain": [
       "  Observation  Y-Kappa  ChipRate  BF-CMratio  BlowFlow  ChipLevel4   \\\n",
       "0    31-00:00    23.10    16.520     121.717  1177.607      169.805   \n",
       "1    31-01:00    27.60    16.810      79.022  1328.360      341.327   \n",
       "2    31-02:00    23.19    16.709      79.562  1329.407      239.161   \n",
       "3    31-03:00    23.60    16.478      81.011  1334.877      213.527   \n",
       "4    31-04:00    22.90    15.618      93.244  1334.168      243.131   \n",
       "\n",
       "   T-upperExt-2   T-lowerExt-2    UCZAA  WhiteFlow-4   ...  SteamFlow-4   \\\n",
       "0        358.282         329.545  1.443       599.253  ...        67.122   \n",
       "1        351.050         329.067  1.549       537.201  ...        60.012   \n",
       "2        350.022         329.260  1.600       549.611  ...        61.304   \n",
       "3        350.938         331.142  1.604       623.362  ...        68.496   \n",
       "4        351.640         332.709    NaN       638.672  ...        70.022   \n",
       "\n",
       "   Lower-HeatT-3  Upper-HeatT-3   ChipMass-4   WeakLiquorF   BlackFlow-2   \\\n",
       "0        329.432         303.099      175.964      1127.197      1319.039   \n",
       "1        330.823         304.879      163.202       665.975      1297.317   \n",
       "2        329.140         303.383      164.013       677.534      1327.072   \n",
       "3        328.875         302.254      181.487       767.853      1324.461   \n",
       "4        328.352         300.954      183.929       888.448      1343.424   \n",
       "\n",
       "   WeakWashF   SteamHeatF-3   T-Top-Chips-4   SulphidityL-4   \n",
       "0     257.325         54.612         252.077             NaN  \n",
       "1     241.182         46.603         251.406           29.11  \n",
       "2     237.272         51.795         251.335             NaN  \n",
       "3     239.478         54.846         250.312           29.02  \n",
       "4     215.372         54.186         249.916           29.01  \n",
       "\n",
       "[5 rows x 23 columns]"
      ]
     },
     "execution_count": 45,
     "metadata": {},
     "output_type": "execute_result"
    }
   ],
   "source": [
    "df=pd.read_csv(\"01.Data Cleaning and Preprocessing.csv\")\n",
    "df.head()"
   ]
  },
  {
   "cell_type": "code",
   "execution_count": 46,
   "metadata": {},
   "outputs": [
    {
     "data": {
      "text/plain": [
       "(324, 23)"
      ]
     },
     "execution_count": 46,
     "metadata": {},
     "output_type": "execute_result"
    }
   ],
   "source": [
    "df.shape"
   ]
  },
  {
   "cell_type": "code",
   "execution_count": 47,
   "metadata": {},
   "outputs": [
    {
     "data": {
      "text/plain": [
       "Observation          0\n",
       "Y-Kappa              0\n",
       "ChipRate             5\n",
       "BF-CMratio          17\n",
       "BlowFlow            16\n",
       "ChipLevel4           1\n",
       "T-upperExt-2         2\n",
       "T-lowerExt-2         2\n",
       "UCZAA               25\n",
       "WhiteFlow-4          1\n",
       "AAWhiteSt-4        151\n",
       "AA-Wood-4            1\n",
       "ChipMoisture-4       1\n",
       "SteamFlow-4          1\n",
       "Lower-HeatT-3        2\n",
       "Upper-HeatT-3        2\n",
       "ChipMass-4           1\n",
       "WeakLiquorF          1\n",
       "BlackFlow-2          2\n",
       "WeakWashF            1\n",
       "SteamHeatF-3         2\n",
       "T-Top-Chips-4        1\n",
       "SulphidityL-4      151\n",
       "dtype: int64"
      ]
     },
     "execution_count": 47,
     "metadata": {},
     "output_type": "execute_result"
    }
   ],
   "source": [
    "df.isnull().sum()"
   ]
  },
  {
   "cell_type": "code",
   "execution_count": 48,
   "metadata": {},
   "outputs": [],
   "source": [
    "df=df.drop_duplicates()"
   ]
  },
  {
   "cell_type": "code",
   "execution_count": 49,
   "metadata": {},
   "outputs": [
    {
     "data": {
      "text/plain": [
       "(301, 23)"
      ]
     },
     "execution_count": 49,
     "metadata": {},
     "output_type": "execute_result"
    }
   ],
   "source": [
    "df.shape"
   ]
  },
  {
   "cell_type": "code",
   "execution_count": 50,
   "metadata": {},
   "outputs": [
    {
     "name": "stdout",
     "output_type": "stream",
     "text": [
      "<class 'pandas.core.frame.DataFrame'>\n",
      "Int64Index: 301 entries, 0 to 307\n",
      "Data columns (total 23 columns):\n",
      " #   Column           Non-Null Count  Dtype  \n",
      "---  ------           --------------  -----  \n",
      " 0   Observation      301 non-null    object \n",
      " 1   Y-Kappa          301 non-null    float64\n",
      " 2   ChipRate         297 non-null    float64\n",
      " 3   BF-CMratio       287 non-null    float64\n",
      " 4   BlowFlow         288 non-null    float64\n",
      " 5   ChipLevel4       300 non-null    float64\n",
      " 6   T-upperExt-2     300 non-null    float64\n",
      " 7   T-lowerExt-2     300 non-null    float64\n",
      " 8   UCZAA            277 non-null    float64\n",
      " 9   WhiteFlow-4      300 non-null    float64\n",
      " 10  AAWhiteSt-4      160 non-null    float64\n",
      " 11  AA-Wood-4        300 non-null    float64\n",
      " 12  ChipMoisture-4   300 non-null    float64\n",
      " 13  SteamFlow-4      300 non-null    float64\n",
      " 14  Lower-HeatT-3    300 non-null    float64\n",
      " 15  Upper-HeatT-3    300 non-null    float64\n",
      " 16  ChipMass-4       300 non-null    float64\n",
      " 17  WeakLiquorF      300 non-null    float64\n",
      " 18  BlackFlow-2      300 non-null    float64\n",
      " 19  WeakWashF        300 non-null    float64\n",
      " 20  SteamHeatF-3     300 non-null    float64\n",
      " 21  T-Top-Chips-4    300 non-null    float64\n",
      " 22  SulphidityL-4    160 non-null    float64\n",
      "dtypes: float64(22), object(1)\n",
      "memory usage: 56.4+ KB\n"
     ]
    }
   ],
   "source": [
    "df.info()"
   ]
  },
  {
   "cell_type": "code",
   "execution_count": 51,
   "metadata": {},
   "outputs": [
    {
     "data": {
      "text/plain": [
       "Index(['Observation', 'Y-Kappa', 'ChipRate', 'BF-CMratio', 'BlowFlow',\n",
       "       'ChipLevel4 ', 'T-upperExt-2 ', 'T-lowerExt-2  ', 'UCZAA',\n",
       "       'WhiteFlow-4 ', 'AAWhiteSt-4 ', 'AA-Wood-4  ', 'ChipMoisture-4 ',\n",
       "       'SteamFlow-4 ', 'Lower-HeatT-3', 'Upper-HeatT-3 ', 'ChipMass-4 ',\n",
       "       'WeakLiquorF ', 'BlackFlow-2 ', 'WeakWashF ', 'SteamHeatF-3 ',\n",
       "       'T-Top-Chips-4 ', 'SulphidityL-4 '],\n",
       "      dtype='object')"
      ]
     },
     "execution_count": 51,
     "metadata": {},
     "output_type": "execute_result"
    }
   ],
   "source": [
    "df.columns"
   ]
  },
  {
   "cell_type": "code",
   "execution_count": 52,
   "metadata": {},
   "outputs": [
    {
     "data": {
      "text/html": [
       "<div>\n",
       "<style scoped>\n",
       "    .dataframe tbody tr th:only-of-type {\n",
       "        vertical-align: middle;\n",
       "    }\n",
       "\n",
       "    .dataframe tbody tr th {\n",
       "        vertical-align: top;\n",
       "    }\n",
       "\n",
       "    .dataframe thead th {\n",
       "        text-align: right;\n",
       "    }\n",
       "</style>\n",
       "<table border=\"1\" class=\"dataframe\">\n",
       "  <thead>\n",
       "    <tr style=\"text-align: right;\">\n",
       "      <th></th>\n",
       "      <th>Y-Kappa</th>\n",
       "      <th>ChipRate</th>\n",
       "      <th>BF-CMratio</th>\n",
       "      <th>BlowFlow</th>\n",
       "      <th>ChipLevel4</th>\n",
       "      <th>T-upperExt-2</th>\n",
       "      <th>T-lowerExt-2</th>\n",
       "      <th>UCZAA</th>\n",
       "      <th>WhiteFlow-4</th>\n",
       "      <th>AAWhiteSt-4</th>\n",
       "      <th>...</th>\n",
       "      <th>SteamFlow-4</th>\n",
       "      <th>Lower-HeatT-3</th>\n",
       "      <th>Upper-HeatT-3</th>\n",
       "      <th>ChipMass-4</th>\n",
       "      <th>WeakLiquorF</th>\n",
       "      <th>BlackFlow-2</th>\n",
       "      <th>WeakWashF</th>\n",
       "      <th>SteamHeatF-3</th>\n",
       "      <th>T-Top-Chips-4</th>\n",
       "      <th>SulphidityL-4</th>\n",
       "    </tr>\n",
       "  </thead>\n",
       "  <tbody>\n",
       "    <tr>\n",
       "      <th>count</th>\n",
       "      <td>301.000000</td>\n",
       "      <td>297.000000</td>\n",
       "      <td>287.000000</td>\n",
       "      <td>288.000000</td>\n",
       "      <td>300.000000</td>\n",
       "      <td>300.000000</td>\n",
       "      <td>300.000000</td>\n",
       "      <td>277.000000</td>\n",
       "      <td>300.000000</td>\n",
       "      <td>160.000000</td>\n",
       "      <td>...</td>\n",
       "      <td>300.000000</td>\n",
       "      <td>300.00000</td>\n",
       "      <td>300.000000</td>\n",
       "      <td>300.000000</td>\n",
       "      <td>300.000000</td>\n",
       "      <td>300.000000</td>\n",
       "      <td>300.000000</td>\n",
       "      <td>300.000000</td>\n",
       "      <td>300.000000</td>\n",
       "      <td>160.000000</td>\n",
       "    </tr>\n",
       "    <tr>\n",
       "      <th>mean</th>\n",
       "      <td>20.568605</td>\n",
       "      <td>14.338670</td>\n",
       "      <td>87.271564</td>\n",
       "      <td>1235.537278</td>\n",
       "      <td>259.365993</td>\n",
       "      <td>356.907033</td>\n",
       "      <td>324.010783</td>\n",
       "      <td>1.490588</td>\n",
       "      <td>593.148090</td>\n",
       "      <td>6.143012</td>\n",
       "      <td>...</td>\n",
       "      <td>66.834567</td>\n",
       "      <td>325.37041</td>\n",
       "      <td>300.381743</td>\n",
       "      <td>162.120610</td>\n",
       "      <td>875.491563</td>\n",
       "      <td>1170.387177</td>\n",
       "      <td>266.104633</td>\n",
       "      <td>49.664537</td>\n",
       "      <td>251.229687</td>\n",
       "      <td>30.463594</td>\n",
       "    </tr>\n",
       "    <tr>\n",
       "      <th>std</th>\n",
       "      <td>2.990751</td>\n",
       "      <td>1.490121</td>\n",
       "      <td>7.839690</td>\n",
       "      <td>102.023065</td>\n",
       "      <td>85.643939</td>\n",
       "      <td>8.954457</td>\n",
       "      <td>7.650502</td>\n",
       "      <td>0.108138</td>\n",
       "      <td>66.949732</td>\n",
       "      <td>0.082396</td>\n",
       "      <td>...</td>\n",
       "      <td>5.643655</td>\n",
       "      <td>4.63735</td>\n",
       "      <td>4.647201</td>\n",
       "      <td>14.129462</td>\n",
       "      <td>123.182165</td>\n",
       "      <td>149.288972</td>\n",
       "      <td>163.222997</td>\n",
       "      <td>4.589876</td>\n",
       "      <td>1.293151</td>\n",
       "      <td>0.671066</td>\n",
       "    </tr>\n",
       "    <tr>\n",
       "      <th>min</th>\n",
       "      <td>12.170000</td>\n",
       "      <td>9.983000</td>\n",
       "      <td>68.645000</td>\n",
       "      <td>0.000000</td>\n",
       "      <td>0.000000</td>\n",
       "      <td>339.168000</td>\n",
       "      <td>284.633000</td>\n",
       "      <td>1.182000</td>\n",
       "      <td>405.111000</td>\n",
       "      <td>5.890000</td>\n",
       "      <td>...</td>\n",
       "      <td>48.568000</td>\n",
       "      <td>318.05100</td>\n",
       "      <td>293.312000</td>\n",
       "      <td>113.922000</td>\n",
       "      <td>486.938000</td>\n",
       "      <td>838.948000</td>\n",
       "      <td>0.000000</td>\n",
       "      <td>35.510000</td>\n",
       "      <td>248.359000</td>\n",
       "      <td>29.010000</td>\n",
       "    </tr>\n",
       "    <tr>\n",
       "      <th>25%</th>\n",
       "      <td>18.450000</td>\n",
       "      <td>13.358000</td>\n",
       "      <td>81.753500</td>\n",
       "      <td>1194.047250</td>\n",
       "      <td>215.369250</td>\n",
       "      <td>350.317000</td>\n",
       "      <td>321.534000</td>\n",
       "      <td>1.429000</td>\n",
       "      <td>543.137750</td>\n",
       "      <td>6.093000</td>\n",
       "      <td>...</td>\n",
       "      <td>62.847250</td>\n",
       "      <td>321.23275</td>\n",
       "      <td>296.418250</td>\n",
       "      <td>153.089750</td>\n",
       "      <td>791.096750</td>\n",
       "      <td>1038.338500</td>\n",
       "      <td>141.560000</td>\n",
       "      <td>46.378500</td>\n",
       "      <td>250.298250</td>\n",
       "      <td>30.107500</td>\n",
       "    </tr>\n",
       "    <tr>\n",
       "      <th>50%</th>\n",
       "      <td>20.740000</td>\n",
       "      <td>14.417000</td>\n",
       "      <td>86.705000</td>\n",
       "      <td>1267.130000</td>\n",
       "      <td>271.845500</td>\n",
       "      <td>357.178500</td>\n",
       "      <td>325.638500</td>\n",
       "      <td>1.498000</td>\n",
       "      <td>594.294000</td>\n",
       "      <td>6.140000</td>\n",
       "      <td>...</td>\n",
       "      <td>67.751000</td>\n",
       "      <td>323.25150</td>\n",
       "      <td>298.493000</td>\n",
       "      <td>163.601000</td>\n",
       "      <td>869.552000</td>\n",
       "      <td>1144.513500</td>\n",
       "      <td>280.451500</td>\n",
       "      <td>50.192500</td>\n",
       "      <td>251.357500</td>\n",
       "      <td>30.395000</td>\n",
       "    </tr>\n",
       "    <tr>\n",
       "      <th>75%</th>\n",
       "      <td>23.000000</td>\n",
       "      <td>15.492000</td>\n",
       "      <td>92.153500</td>\n",
       "      <td>1288.390000</td>\n",
       "      <td>321.285000</td>\n",
       "      <td>362.326250</td>\n",
       "      <td>329.129250</td>\n",
       "      <td>1.561000</td>\n",
       "      <td>643.567000</td>\n",
       "      <td>6.200000</td>\n",
       "      <td>...</td>\n",
       "      <td>71.650250</td>\n",
       "      <td>329.81600</td>\n",
       "      <td>304.228250</td>\n",
       "      <td>172.286750</td>\n",
       "      <td>969.904000</td>\n",
       "      <td>1318.632750</td>\n",
       "      <td>405.887750</td>\n",
       "      <td>53.284750</td>\n",
       "      <td>252.332250</td>\n",
       "      <td>30.838250</td>\n",
       "    </tr>\n",
       "    <tr>\n",
       "      <th>max</th>\n",
       "      <td>27.600000</td>\n",
       "      <td>16.958000</td>\n",
       "      <td>121.717000</td>\n",
       "      <td>1351.240000</td>\n",
       "      <td>419.014000</td>\n",
       "      <td>399.135000</td>\n",
       "      <td>337.012000</td>\n",
       "      <td>1.747000</td>\n",
       "      <td>731.394000</td>\n",
       "      <td>6.340000</td>\n",
       "      <td>...</td>\n",
       "      <td>76.147000</td>\n",
       "      <td>333.85400</td>\n",
       "      <td>311.146000</td>\n",
       "      <td>189.268000</td>\n",
       "      <td>1226.277000</td>\n",
       "      <td>1395.767000</td>\n",
       "      <td>715.715000</td>\n",
       "      <td>63.332000</td>\n",
       "      <td>254.122000</td>\n",
       "      <td>32.840000</td>\n",
       "    </tr>\n",
       "  </tbody>\n",
       "</table>\n",
       "<p>8 rows × 22 columns</p>\n",
       "</div>"
      ],
      "text/plain": [
       "          Y-Kappa    ChipRate  BF-CMratio     BlowFlow  ChipLevel4   \\\n",
       "count  301.000000  297.000000  287.000000   288.000000   300.000000   \n",
       "mean    20.568605   14.338670   87.271564  1235.537278   259.365993   \n",
       "std      2.990751    1.490121    7.839690   102.023065    85.643939   \n",
       "min     12.170000    9.983000   68.645000     0.000000     0.000000   \n",
       "25%     18.450000   13.358000   81.753500  1194.047250   215.369250   \n",
       "50%     20.740000   14.417000   86.705000  1267.130000   271.845500   \n",
       "75%     23.000000   15.492000   92.153500  1288.390000   321.285000   \n",
       "max     27.600000   16.958000  121.717000  1351.240000   419.014000   \n",
       "\n",
       "       T-upperExt-2   T-lowerExt-2         UCZAA  WhiteFlow-4   AAWhiteSt-4   \\\n",
       "count     300.000000      300.000000  277.000000    300.000000    160.000000   \n",
       "mean      356.907033      324.010783    1.490588    593.148090      6.143012   \n",
       "std         8.954457        7.650502    0.108138     66.949732      0.082396   \n",
       "min       339.168000      284.633000    1.182000    405.111000      5.890000   \n",
       "25%       350.317000      321.534000    1.429000    543.137750      6.093000   \n",
       "50%       357.178500      325.638500    1.498000    594.294000      6.140000   \n",
       "75%       362.326250      329.129250    1.561000    643.567000      6.200000   \n",
       "max       399.135000      337.012000    1.747000    731.394000      6.340000   \n",
       "\n",
       "       ...  SteamFlow-4   Lower-HeatT-3  Upper-HeatT-3   ChipMass-4   \\\n",
       "count  ...    300.000000      300.00000      300.000000   300.000000   \n",
       "mean   ...     66.834567      325.37041      300.381743   162.120610   \n",
       "std    ...      5.643655        4.63735        4.647201    14.129462   \n",
       "min    ...     48.568000      318.05100      293.312000   113.922000   \n",
       "25%    ...     62.847250      321.23275      296.418250   153.089750   \n",
       "50%    ...     67.751000      323.25150      298.493000   163.601000   \n",
       "75%    ...     71.650250      329.81600      304.228250   172.286750   \n",
       "max    ...     76.147000      333.85400      311.146000   189.268000   \n",
       "\n",
       "       WeakLiquorF   BlackFlow-2   WeakWashF   SteamHeatF-3   T-Top-Chips-4   \\\n",
       "count    300.000000    300.000000  300.000000     300.000000      300.000000   \n",
       "mean     875.491563   1170.387177  266.104633      49.664537      251.229687   \n",
       "std      123.182165    149.288972  163.222997       4.589876        1.293151   \n",
       "min      486.938000    838.948000    0.000000      35.510000      248.359000   \n",
       "25%      791.096750   1038.338500  141.560000      46.378500      250.298250   \n",
       "50%      869.552000   1144.513500  280.451500      50.192500      251.357500   \n",
       "75%      969.904000   1318.632750  405.887750      53.284750      252.332250   \n",
       "max     1226.277000   1395.767000  715.715000      63.332000      254.122000   \n",
       "\n",
       "       SulphidityL-4   \n",
       "count      160.000000  \n",
       "mean        30.463594  \n",
       "std          0.671066  \n",
       "min         29.010000  \n",
       "25%         30.107500  \n",
       "50%         30.395000  \n",
       "75%         30.838250  \n",
       "max         32.840000  \n",
       "\n",
       "[8 rows x 22 columns]"
      ]
     },
     "execution_count": 52,
     "metadata": {},
     "output_type": "execute_result"
    }
   ],
   "source": [
    "df.describe()"
   ]
  },
  {
   "cell_type": "code",
   "execution_count": 53,
   "metadata": {},
   "outputs": [],
   "source": [
    "#defined a function boxplot\n",
    "def plot_boxplot(df,ft):\n",
    "    df.boxplot(column=[ft])\n",
    "    plt.grid(False)\n",
    "    plt.show()"
   ]
  },
  {
   "cell_type": "code",
   "execution_count": 54,
   "metadata": {},
   "outputs": [
    {
     "data": {
      "image/png": "[encoded data removed]",
      "text/plain": [
       "<Figure size 640x480 with 1 Axes>"
      ]
     },
     "metadata": {},
     "output_type": "display_data"
    }
   ],
   "source": [
    "plot_boxplot(df,\"Y-Kappa\")   #as we can see it has no outlier"
   ]
  },
  {
   "cell_type": "code",
   "execution_count": 55,
   "metadata": {},
   "outputs": [
    {
     "data": {
      "image/png": "[encoded data removed]",
      "text/plain": [
       "<Figure size 640x480 with 1 Axes>"
      ]
     },
     "metadata": {},
     "output_type": "display_data"
    }
   ],
   "source": [
    "plot_boxplot(df,\"BF-CMratio\")   #it has  some outliers"
   ]
  },
  {
   "cell_type": "code",
   "execution_count": 56,
   "metadata": {},
   "outputs": [
    {
     "data": {
      "image/png": "[encoded data removed]",
      "text/plain": [
       "<Figure size 640x480 with 1 Axes>"
      ]
     },
     "metadata": {},
     "output_type": "display_data"
    }
   ],
   "source": [
    "plot_boxplot(df,\"ChipLevel4 \")  #also have outliers"
   ]
  },
  {
   "cell_type": "code",
   "execution_count": 57,
   "metadata": {},
   "outputs": [],
   "source": [
    "df.drop(columns='Observation',inplace=True)"
   ]
  },
  {
   "cell_type": "code",
   "execution_count": 58,
   "metadata": {},
   "outputs": [],
   "source": [
    "def remove_outliers_iqr(df, column):\n",
    "    Q1 = df[column].quantile(0.25)\n",
    "    Q3 = df[column].quantile(0.75)\n",
    "    IQR = Q3 - Q1\n",
    "    lower_bound = Q1 - 1.5 * IQR\n",
    "    upper_bound = Q3 + 1.5 * IQR\n",
    "    df_filtered = df[(df[column] >= lower_bound) & (df[column] <= upper_bound)]\n",
    "    return df_filtered\n"
   ]
  },
  {
   "cell_type": "code",
   "execution_count": 59,
   "metadata": {},
   "outputs": [],
   "source": [
    "for column in df.columns:\n",
    "    if pd.api.types.is_numeric_dtype(df[column]):\n",
    "        df = remove_outliers_iqr(df, column)\n"
   ]
  },
  {
   "cell_type": "code",
   "execution_count": 60,
   "metadata": {},
   "outputs": [],
   "source": [
    "df.to_csv('cleaned_data.csv', index=False)\n"
   ]
  },
  {
   "cell_type": "markdown",
   "metadata": {},
   "source": [
    "Now using boxplot we will check if outliers are removes or not"
   ]
  },
  {
   "cell_type": "code",
   "execution_count": 61,
   "metadata": {},
   "outputs": [
    {
     "data": {
      "image/png": "[encoded data removed]",
      "text/plain": [
       "<Figure size 640x480 with 1 Axes>"
      ]
     },
     "metadata": {},
     "output_type": "display_data"
    }
   ],
   "source": [
    "plot_boxplot(df,\"BF-CMratio\")"
   ]
  },
  {
   "cell_type": "code",
   "execution_count": 62,
   "metadata": {},
   "outputs": [
    {
     "data": {
      "image/png": "[encoded data removed]",
      "text/plain": [
       "<Figure size 640x480 with 1 Axes>"
      ]
     },
     "metadata": {},
     "output_type": "display_data"
    }
   ],
   "source": [
    "plot_boxplot(df,\"ChipLevel4 \")  #also have outliers"
   ]
  },
  {
   "cell_type": "markdown",
   "metadata": {},
   "source": [
    "As we can see our outliers are removed"
   ]
  },
  {
   "cell_type": "code",
   "execution_count": 63,
   "metadata": {},
   "outputs": [
    {
     "name": "stdout",
     "output_type": "stream",
     "text": [
      "<class 'pandas.core.frame.DataFrame'>\n",
      "Int64Index: 105 entries, 1 to 298\n",
      "Data columns (total 22 columns):\n",
      " #   Column           Non-Null Count  Dtype  \n",
      "---  ------           --------------  -----  \n",
      " 0   Y-Kappa          105 non-null    float64\n",
      " 1   ChipRate         105 non-null    float64\n",
      " 2   BF-CMratio       105 non-null    float64\n",
      " 3   BlowFlow         105 non-null    float64\n",
      " 4   ChipLevel4       105 non-null    float64\n",
      " 5   T-upperExt-2     105 non-null    float64\n",
      " 6   T-lowerExt-2     105 non-null    float64\n",
      " 7   UCZAA            105 non-null    float64\n",
      " 8   WhiteFlow-4      105 non-null    float64\n",
      " 9   AAWhiteSt-4      105 non-null    float64\n",
      " 10  AA-Wood-4        105 non-null    float64\n",
      " 11  ChipMoisture-4   105 non-null    float64\n",
      " 12  SteamFlow-4      105 non-null    float64\n",
      " 13  Lower-HeatT-3    105 non-null    float64\n",
      " 14  Upper-HeatT-3    105 non-null    float64\n",
      " 15  ChipMass-4       105 non-null    float64\n",
      " 16  WeakLiquorF      105 non-null    float64\n",
      " 17  BlackFlow-2      105 non-null    float64\n",
      " 18  WeakWashF        105 non-null    float64\n",
      " 19  SteamHeatF-3     105 non-null    float64\n",
      " 20  T-Top-Chips-4    105 non-null    float64\n",
      " 21  SulphidityL-4    105 non-null    float64\n",
      "dtypes: float64(22)\n",
      "memory usage: 18.9 KB\n"
     ]
    }
   ],
   "source": [
    "df.info()"
   ]
  },
  {
   "cell_type": "code",
   "execution_count": 64,
   "metadata": {},
   "outputs": [
    {
     "data": {
      "text/plain": [
       "Y-Kappa            0\n",
       "ChipRate           0\n",
       "BF-CMratio         0\n",
       "BlowFlow           0\n",
       "ChipLevel4         0\n",
       "T-upperExt-2       0\n",
       "T-lowerExt-2       0\n",
       "UCZAA              0\n",
       "WhiteFlow-4        0\n",
       "AAWhiteSt-4        0\n",
       "AA-Wood-4          0\n",
       "ChipMoisture-4     0\n",
       "SteamFlow-4        0\n",
       "Lower-HeatT-3      0\n",
       "Upper-HeatT-3      0\n",
       "ChipMass-4         0\n",
       "WeakLiquorF        0\n",
       "BlackFlow-2        0\n",
       "WeakWashF          0\n",
       "SteamHeatF-3       0\n",
       "T-Top-Chips-4      0\n",
       "SulphidityL-4      0\n",
       "dtype: int64"
      ]
     },
     "execution_count": 64,
     "metadata": {},
     "output_type": "execute_result"
    }
   ],
   "source": [
    "df.isnull().sum()"
   ]
  }
 ],
 "metadata": {
  "kernelspec": {
   "display_name": "Python 3",
   "language": "python",
   "name": "python3"
  },
  "language_info": {
   "codemirror_mode": {
    "name": "ipython",
    "version": 3
   },
   "file_extension": ".py",
   "mimetype": "text/x-python",
   "name": "python",
   "nbconvert_exporter": "python",
   "pygments_lexer": "ipython3",
   "version": "3.11.1"
  },
  "orig_nbformat": 4
 },
 "nbformat": 4,
 "nbformat_minor": 2
}
